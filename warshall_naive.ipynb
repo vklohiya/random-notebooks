{
  "nbformat": 4,
  "nbformat_minor": 0,
  "metadata": {
    "colab": {
      "name": "warshall-naive.ipynb",
      "provenance": [],
      "authorship_tag": "ABX9TyPUzGI2lKFkIOKqaNR+9ORX",
      "include_colab_link": true
    },
    "kernelspec": {
      "name": "python3",
      "display_name": "Python 3"
    }
  },
  "cells": [
    {
      "cell_type": "markdown",
      "metadata": {
        "id": "view-in-github",
        "colab_type": "text"
      },
      "source": [
        "<a href=\"https://colab.research.google.com/github/vklohiya/random-notebooks/blob/master/warshall_naive.ipynb\" target=\"_parent\"><img src=\"https://colab.research.google.com/assets/colab-badge.svg\" alt=\"Open In Colab\"/></a>"
      ]
    },
    {
      "cell_type": "code",
      "metadata": {
        "id": "0S6m4mbk-aEv",
        "colab_type": "code",
        "colab": {
          "base_uri": "https://localhost:8080/",
          "height": 295
        },
        "outputId": "8327af17-812d-45b2-f779-4d0d0ec319a9"
      },
      "source": [
        "import random\n",
        "import time\n",
        "import matplotlib.pyplot as plt\n",
        "\n",
        "def matrix_multiplication(X, Y):\n",
        "    result = [[False for i in range(len(X))]] * len(Y[0])\n",
        "    # iterating by row of X\n",
        "    for i in range(len(X)):\n",
        "        # iterating by coloum by Y\n",
        "        for j in range(len(Y[0])):\n",
        "            # iterating by rows of Y\n",
        "            for k in range(len(Y)):\n",
        "                result[i][j] += X[i][k] * Y[k][j]\n",
        "    return result\n",
        "\n",
        "\n",
        "def matrix_union(X, Y):\n",
        "    result = [[False for i in range(len(X))]] * len(Y[0])\n",
        "    # iterating by row of X\n",
        "    for i in range(len(X)):\n",
        "        # iterating by coloum by Y\n",
        "        for j in range(len(Y[0])):\n",
        "            result[i][j] = X[i][j] or Y[i][j]\n",
        "    return result\n",
        "\n",
        "\n",
        "def naive_method(matrix, verbose=True):\n",
        "    start = time.time()\n",
        "    n = len(matrix)\n",
        "    assert (len(row) == n for row in matrix)\n",
        "    matrix_r = matrix.copy()\n",
        "    matrix_star = matrix.copy()\n",
        "    for r in range(1, n):\n",
        "        matrix_r = matrix_multiplication(matrix_r, matrix)\n",
        "        matrix_star = matrix_union(matrix_star, matrix_r)\n",
        "    if verbose:\n",
        "        print(f\"Transitivity Matrix: {matrix_star}\")\n",
        "    end = time.time()\n",
        "    return end - start\n",
        "\n",
        "\n",
        "def warshall_method(matrix, verbose=True):\n",
        "    start = time.time()\n",
        "    n = len(matrix)\n",
        "    assert (len(row) == n for row in matrix)\n",
        "    for k in range(n):\n",
        "        for i in range(n):\n",
        "            for j in range(n):\n",
        "                matrix[i][j] = matrix[i][j] or (matrix[i][k] and matrix[k][j])\n",
        "    if verbose:\n",
        "        print(f\"Transitivity Matrix: {matrix}\")\n",
        "    end = time.time()\n",
        "    return end - start\n",
        "\n",
        "\n",
        "def test_transitive_closure_function(E_size=100, N_range=100, verbose=True):\n",
        "    \"\"\"\n",
        "    This function generates a random relation and tests transitive closure of the relation using\n",
        "    naive_method() and warshall_method(), and returning the time taken by both the methods.\n",
        "    \"\"\"\n",
        "    # using list comprehension\n",
        "    # to initializing matrix\n",
        "    met0 = [[0 for i in range(N_range)]] * N_range\n",
        "    E = set()\n",
        "    for j in range(E_size):\n",
        "        n1 = random.randint(1, N_range)\n",
        "        n2 = random.randint(1, N_range)\n",
        "        E.add((n1,n2))\n",
        "        met0[n1-1][n2-1] = 1\n",
        "    if verbose:\n",
        "        print(f\"Generated relation with {E_size} edges on {N_range} nodes...\")\n",
        "    t_naive = naive_method(matrix=met0, verbose=verbose)\n",
        "    t_warshall = warshall_method(matrix=met0, verbose=verbose)\n",
        "    if verbose:\n",
        "        print(f\"Time taken by naive algorithm: {t_naive}\")\n",
        "        print(f\"Time taken by Warshall algorithm: {t_warshall}\")\n",
        "\n",
        "    return t_naive, t_warshall\n",
        "\n",
        "\n",
        "if __name__ == \"__main__\":\n",
        "    execution_time_naive = []\n",
        "    execution_time_warshall = []\n",
        "    for i in range(10, 100):\n",
        "        e_size = random.randint(0, 100)\n",
        "        t_naive, t_warshall = test_transitive_closure_function(E_size=e_size, N_range=i, verbose=False)\n",
        "        execution_time_naive.append(t_naive)\n",
        "        execution_time_warshall.append(t_warshall)\n",
        "\n",
        "    # plotting the line for naive algorithm\n",
        "    plt.plot(range(10,100), execution_time_naive, label=\"Naive Algorithm\")\n",
        "\n",
        "\n",
        "    # plotting the line for warshall algorithm\n",
        "    plt.plot(range(10,100), execution_time_warshall, label=\"Warshall's Algorithm\")\n",
        "\n",
        "    # naming the x axis\n",
        "    plt.xlabel('matrix size')\n",
        "    # naming the y axis\n",
        "    plt.ylabel('execution  time')\n",
        "    # giving a title to my graph\n",
        "    plt.title(\"Naive Vs Warshall's Algorithm\")\n",
        "\n",
        "    # show a legend on the plot\n",
        "    plt.legend()\n",
        "\n",
        "    # function to show the plot\n",
        "    plt.show()"
      ],
      "execution_count": null,
      "outputs": [
        {
          "output_type": "display_data",
          "data": {
            "image/png": "[encoded data removed]",
            "text/plain": [
              "<Figure size 432x288 with 1 Axes>"
            ]
          },
          "metadata": {
            "tags": [],
            "needs_background": "light"
          }
        }
      ]
    },
    {
      "cell_type": "markdown",
      "metadata": {
        "id": "JTHKJiG75A3t",
        "colab_type": "text"
      },
      "source": [
        "The computational complexity of Warshall’s algorithm can easily be computed in terms of bit operations. To find the entry wij from the entries wij , wik , and wkj requires two bit operations. To find all n2 entries of Wk from those of Wk−1 requires 2n^2 bit operations. Because Warshall’s algorithm begins with W0 = MR and computes the sequence of n zero–one matrices W1, W2, . . . , Wn = MR∗ , the total number of bit operations used is n·2n^2 =2n."
      ]
    }
  ]
}